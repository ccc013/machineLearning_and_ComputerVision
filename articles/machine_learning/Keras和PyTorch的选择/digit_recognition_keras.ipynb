{
  "nbformat": 4,
  "nbformat_minor": 0,
  "metadata": {
    "colab": {
      "name": "digit_recognition_keras.ipynb",
      "provenance": []
    },
    "kernelspec": {
      "name": "python3",
      "display_name": "Python 3"
    }
  },
  "cells": [
    {
      "cell_type": "code",
      "metadata": {
        "id": "xAeveYP_dWDD",
        "colab_type": "code",
        "outputId": "21c1bc73-3224-4cb0-a43a-e8fb56aa3f90",
        "colab": {
          "base_uri": "https://localhost:8080/",
          "height": 35
        }
      },
      "source": [
        "from keras.datasets import mnist\n",
        "from keras.utils import to_categorical\n",
        "from keras.models import Sequential\n",
        "from keras.layers import Dense, Dropout, Flatten, Conv2D, MaxPooling2D"
      ],
      "execution_count": 0,
      "outputs": [
        {
          "output_type": "stream",
          "text": [
            "Using TensorFlow backend.\n"
          ],
          "name": "stderr"
        }
      ]
    },
    {
      "cell_type": "code",
      "metadata": {
        "id": "NeCBkpuOdh6Q",
        "colab_type": "code",
        "colab": {}
      },
      "source": [
        "img_rows, img_cols = 28, 28\n",
        "num_classes = 10\n",
        "batch_size = 128\n",
        "epochs = 10"
      ],
      "execution_count": 0,
      "outputs": []
    },
    {
      "cell_type": "code",
      "metadata": {
        "id": "kvwQ01-JdWBA",
        "colab_type": "code",
        "outputId": "86635b7e-6f22-4ecd-81a1-8a7b33a59396",
        "colab": {
          "base_uri": "https://localhost:8080/",
          "height": 52
        }
      },
      "source": [
        "(x_train, y_train), (x_test, y_test) = mnist.load_data()\n",
        "x_train = x_train.reshape(x_train.shape[0], img_rows, img_cols, 1)\n",
        "x_test = x_test.reshape(x_test.shape[0], img_rows, img_cols, 1)\n",
        "x_train = x_train/255\n",
        "x_test  = x_test/255\n",
        "y_train = to_categorical(y_train, num_classes)\n",
        "y_test = to_categorical(y_test, num_classes)\n"
      ],
      "execution_count": 0,
      "outputs": [
        {
          "output_type": "stream",
          "text": [
            "Downloading data from https://s3.amazonaws.com/img-datasets/mnist.npz\n",
            "11493376/11490434 [==============================] - 0s 0us/step\n"
          ],
          "name": "stdout"
        }
      ]
    },
    {
      "cell_type": "code",
      "metadata": {
        "id": "lY29DgJidV8n",
        "colab_type": "code",
        "colab": {}
      },
      "source": [
        "model = Sequential()\n",
        "model.add(Conv2D(32, kernel_size=(3, 3),\n",
        "     activation='relu',\n",
        "     input_shape=(img_rows, img_cols, 1)))\n",
        "model.add(Conv2D(64, (3, 3), activation='relu'))\n",
        "model.add(MaxPooling2D(pool_size=(2, 2)))\n",
        "model.add(Dropout(0.25))\n",
        "model.add(Flatten())\n",
        "model.add(Dense(128, activation='relu'))\n",
        "model.add(Dropout(0.5))\n",
        "model.add(Dense(num_classes, activation='softmax'))\n",
        "model.compile(loss='categorical_crossentropy',\n",
        "      optimizer='adam',\n",
        "      metrics=['accuracy'])\n"
      ],
      "execution_count": 0,
      "outputs": []
    },
    {
      "cell_type": "code",
      "metadata": {
        "id": "pIpVR45jdV6h",
        "colab_type": "code",
        "outputId": "aab6b6a6-33e3-4298-c9da-96b401b8c988",
        "colab": {
          "base_uri": "https://localhost:8080/",
          "height": 283
        }
      },
      "source": [
        "model.fit(x_train, y_train,\n",
        "          batch_size=batch_size,\n",
        "          epochs=epochs,\n",
        "          verbose=1,\n",
        "          validation_data=(x_test, y_test))\n",
        "\n",
        "score = model.evaluate(x_test, y_test, verbose=0)\n",
        "print('Test loss:', score[0])\n",
        "print('Test accuracy:', score[1])\n",
        "model.save(\"test_model.h5\")"
      ],
      "execution_count": 0,
      "outputs": [
        {
          "output_type": "stream",
          "text": [
            "Train on 60000 samples, validate on 10000 samples\n",
            "Epoch 1/10\n",
            "60000/60000 [==============================] - 144s 2ms/step - loss: 0.2519 - accuracy: 0.9246 - val_loss: 0.0527 - val_accuracy: 0.9831\n",
            "Epoch 2/10\n",
            "60000/60000 [==============================] - 142s 2ms/step - loss: 0.0848 - accuracy: 0.9741 - val_loss: 0.0367 - val_accuracy: 0.9876\n",
            "Epoch 3/10\n",
            "60000/60000 [==============================] - 142s 2ms/step - loss: 0.0658 - accuracy: 0.9805 - val_loss: 0.0353 - val_accuracy: 0.9884\n",
            "Epoch 4/10\n",
            "60000/60000 [==============================] - 141s 2ms/step - loss: 0.0522 - accuracy: 0.9841 - val_loss: 0.0300 - val_accuracy: 0.9905\n",
            "Epoch 5/10\n",
            "60000/60000 [==============================] - 143s 2ms/step - loss: 0.0442 - accuracy: 0.9858 - val_loss: 0.0274 - val_accuracy: 0.9914\n",
            "Epoch 6/10\n",
            "60000/60000 [==============================] - 141s 2ms/step - loss: 0.0382 - accuracy: 0.9880 - val_loss: 0.0278 - val_accuracy: 0.9911\n",
            "Epoch 7/10\n",
            "53888/60000 [=========================>....] - ETA: 14s - loss: 0.0365 - accuracy: 0.9886"
          ],
          "name": "stdout"
        }
      ]
    },
    {
      "cell_type": "code",
      "metadata": {
        "id": "0IEjcZqldV45",
        "colab_type": "code",
        "colab": {}
      },
      "source": [
        "# load the model\n",
        "from keras.models import load_model\n",
        "model = load_model(\"test_model.h5\")\n",
        "\n",
        "# predict digit\n",
        "prediction = model.predict(gray)\n",
        "print(prediction.argmax())"
      ],
      "execution_count": 0,
      "outputs": []
    }
  ]
}